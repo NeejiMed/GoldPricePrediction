{
  "nbformat": 4,
  "nbformat_minor": 0,
  "metadata": {
    "colab": {
      "name": "GoldPricePrediction.ipynb",
      "provenance": []
    },
    "kernelspec": {
      "name": "python3",
      "display_name": "Python 3"
    },
    "language_info": {
      "name": "python"
    }
  },
  "cells": [
    {
      "cell_type": "code",
      "execution_count": null,
      "metadata": {
        "colab": {
          "base_uri": "https://localhost:8080/"
        },
        "id": "UAt4aE9mSU4Z",
        "outputId": "eecc665a-0d89-4243-85c8-cb7311486918"
      },
      "outputs": [
        {
          "output_type": "execute_result",
          "data": {
            "text/plain": [
              "(2290, 6)"
            ]
          },
          "metadata": {},
          "execution_count": 10
        }
      ],
      "source": [
        "import pandas as pd\n",
        "import numpy as np\n",
        "import matplotlib.pyplot as plt\n",
        "import matplotlib as mpl\n",
        "import seaborn as sns\n",
        "from sklearn.model_selection import train_test_split\n",
        "from sklearn.ensemble import RandomForestRegressor\n",
        "from sklearn import metrics\n",
        "df= pd.read_csv(\"/content/gld_price_data.csv\")\n",
        "df.head()"
      ]
    },
    {
      "cell_type": "code",
      "source": [
        "df.info()"
      ],
      "metadata": {
        "colab": {
          "base_uri": "https://localhost:8080/"
        },
        "id": "TcZqLfSNS3QQ",
        "outputId": "8aa6ea7c-b8e2-4da0-aaab-3684a3343070"
      },
      "execution_count": null,
      "outputs": [
        {
          "output_type": "stream",
          "name": "stdout",
          "text": [
            "<class 'pandas.core.frame.DataFrame'>\n",
            "RangeIndex: 2290 entries, 0 to 2289\n",
            "Data columns (total 6 columns):\n",
            " #   Column   Non-Null Count  Dtype  \n",
            "---  ------   --------------  -----  \n",
            " 0   Date     2290 non-null   object \n",
            " 1   SPX      2290 non-null   float64\n",
            " 2   GLD      2290 non-null   float64\n",
            " 3   USO      2290 non-null   float64\n",
            " 4   SLV      2290 non-null   float64\n",
            " 5   EUR/USD  2290 non-null   float64\n",
            "dtypes: float64(5), object(1)\n",
            "memory usage: 107.5+ KB\n"
          ]
        }
      ]
    },
    {
      "cell_type": "code",
      "source": [
        "#checking the number of nan values\n",
        "df.isnull().sum()"
      ],
      "metadata": {
        "colab": {
          "base_uri": "https://localhost:8080/"
        },
        "id": "IwZ4TrhuTARY",
        "outputId": "f485a2a9-e547-4e1a-9a81-5977a891e7c6"
      },
      "execution_count": null,
      "outputs": [
        {
          "output_type": "execute_result",
          "data": {
            "text/plain": [
              "Date       0\n",
              "SPX        0\n",
              "GLD        0\n",
              "USO        0\n",
              "SLV        0\n",
              "EUR/USD    0\n",
              "dtype: int64"
            ]
          },
          "metadata": {},
          "execution_count": 17
        }
      ]
    },
    {
      "cell_type": "code",
      "source": [
        "#statics\n",
        "df.describe()"
      ],
      "metadata": {
        "colab": {
          "base_uri": "https://localhost:8080/",
          "height": 300
        },
        "id": "ANZoboOMWtAk",
        "outputId": "da45f274-50fb-4a13-d168-696936ffae34"
      },
      "execution_count": null,
      "outputs": [
        {
          "output_type": "execute_result",
          "data": {
            "text/plain": [
              "               SPX          GLD          USO          SLV      EUR/USD\n",
              "count  2290.000000  2290.000000  2290.000000  2290.000000  2290.000000\n",
              "mean   1654.315776   122.732875    31.842221    20.084997     1.283653\n",
              "std     519.111540    23.283346    19.523517     7.092566     0.131547\n",
              "min     676.530029    70.000000     7.960000     8.850000     1.039047\n",
              "25%    1239.874969   109.725000    14.380000    15.570000     1.171313\n",
              "50%    1551.434998   120.580002    33.869999    17.268500     1.303297\n",
              "75%    2073.010070   132.840004    37.827501    22.882500     1.369971\n",
              "max    2872.870117   184.589996   117.480003    47.259998     1.598798"
            ],
            "text/html": [
              "\n",
              "  <div id=\"df-2a24334d-8605-4992-a05d-5858e0db1e80\">\n",
              "    <div class=\"colab-df-container\">\n",
              "      <div>\n",
              "<style scoped>\n",
              "    .dataframe tbody tr th:only-of-type {\n",
              "        vertical-align: middle;\n",
              "    }\n",
              "\n",
              "    .dataframe tbody tr th {\n",
              "        vertical-align: top;\n",
              "    }\n",
              "\n",
              "    .dataframe thead th {\n",
              "        text-align: right;\n",
              "    }\n",
              "</style>\n",
              "<table border=\"1\" class=\"dataframe\">\n",
              "  <thead>\n",
              "    <tr style=\"text-align: right;\">\n",
              "      <th></th>\n",
              "      <th>SPX</th>\n",
              "      <th>GLD</th>\n",
              "      <th>USO</th>\n",
              "      <th>SLV</th>\n",
              "      <th>EUR/USD</th>\n",
              "    </tr>\n",
              "  </thead>\n",
              "  <tbody>\n",
              "    <tr>\n",
              "      <th>count</th>\n",
              "      <td>2290.000000</td>\n",
              "      <td>2290.000000</td>\n",
              "      <td>2290.000000</td>\n",
              "      <td>2290.000000</td>\n",
              "      <td>2290.000000</td>\n",
              "    </tr>\n",
              "    <tr>\n",
              "      <th>mean</th>\n",
              "      <td>1654.315776</td>\n",
              "      <td>122.732875</td>\n",
              "      <td>31.842221</td>\n",
              "      <td>20.084997</td>\n",
              "      <td>1.283653</td>\n",
              "    </tr>\n",
              "    <tr>\n",
              "      <th>std</th>\n",
              "      <td>519.111540</td>\n",
              "      <td>23.283346</td>\n",
              "      <td>19.523517</td>\n",
              "      <td>7.092566</td>\n",
              "      <td>0.131547</td>\n",
              "    </tr>\n",
              "    <tr>\n",
              "      <th>min</th>\n",
              "      <td>676.530029</td>\n",
              "      <td>70.000000</td>\n",
              "      <td>7.960000</td>\n",
              "      <td>8.850000</td>\n",
              "      <td>1.039047</td>\n",
              "    </tr>\n",
              "    <tr>\n",
              "      <th>25%</th>\n",
              "      <td>1239.874969</td>\n",
              "      <td>109.725000</td>\n",
              "      <td>14.380000</td>\n",
              "      <td>15.570000</td>\n",
              "      <td>1.171313</td>\n",
              "    </tr>\n",
              "    <tr>\n",
              "      <th>50%</th>\n",
              "      <td>1551.434998</td>\n",
              "      <td>120.580002</td>\n",
              "      <td>33.869999</td>\n",
              "      <td>17.268500</td>\n",
              "      <td>1.303297</td>\n",
              "    </tr>\n",
              "    <tr>\n",
              "      <th>75%</th>\n",
              "      <td>2073.010070</td>\n",
              "      <td>132.840004</td>\n",
              "      <td>37.827501</td>\n",
              "      <td>22.882500</td>\n",
              "      <td>1.369971</td>\n",
              "    </tr>\n",
              "    <tr>\n",
              "      <th>max</th>\n",
              "      <td>2872.870117</td>\n",
              "      <td>184.589996</td>\n",
              "      <td>117.480003</td>\n",
              "      <td>47.259998</td>\n",
              "      <td>1.598798</td>\n",
              "    </tr>\n",
              "  </tbody>\n",
              "</table>\n",
              "</div>\n",
              "      <button class=\"colab-df-convert\" onclick=\"convertToInteractive('df-2a24334d-8605-4992-a05d-5858e0db1e80')\"\n",
              "              title=\"Convert this dataframe to an interactive table.\"\n",
              "              style=\"display:none;\">\n",
              "        \n",
              "  <svg xmlns=\"http://www.w3.org/2000/svg\" height=\"24px\"viewBox=\"0 0 24 24\"\n",
              "       width=\"24px\">\n",
              "    <path d=\"M0 0h24v24H0V0z\" fill=\"none\"/>\n",
              "    <path d=\"M18.56 5.44l.94 2.06.94-2.06 2.06-.94-2.06-.94-.94-2.06-.94 2.06-2.06.94zm-11 1L8.5 8.5l.94-2.06 2.06-.94-2.06-.94L8.5 2.5l-.94 2.06-2.06.94zm10 10l.94 2.06.94-2.06 2.06-.94-2.06-.94-.94-2.06-.94 2.06-2.06.94z\"/><path d=\"M17.41 7.96l-1.37-1.37c-.4-.4-.92-.59-1.43-.59-.52 0-1.04.2-1.43.59L10.3 9.45l-7.72 7.72c-.78.78-.78 2.05 0 2.83L4 21.41c.39.39.9.59 1.41.59.51 0 1.02-.2 1.41-.59l7.78-7.78 2.81-2.81c.8-.78.8-2.07 0-2.86zM5.41 20L4 18.59l7.72-7.72 1.47 1.35L5.41 20z\"/>\n",
              "  </svg>\n",
              "      </button>\n",
              "      \n",
              "  <style>\n",
              "    .colab-df-container {\n",
              "      display:flex;\n",
              "      flex-wrap:wrap;\n",
              "      gap: 12px;\n",
              "    }\n",
              "\n",
              "    .colab-df-convert {\n",
              "      background-color: #E8F0FE;\n",
              "      border: none;\n",
              "      border-radius: 50%;\n",
              "      cursor: pointer;\n",
              "      display: none;\n",
              "      fill: #1967D2;\n",
              "      height: 32px;\n",
              "      padding: 0 0 0 0;\n",
              "      width: 32px;\n",
              "    }\n",
              "\n",
              "    .colab-df-convert:hover {\n",
              "      background-color: #E2EBFA;\n",
              "      box-shadow: 0px 1px 2px rgba(60, 64, 67, 0.3), 0px 1px 3px 1px rgba(60, 64, 67, 0.15);\n",
              "      fill: #174EA6;\n",
              "    }\n",
              "\n",
              "    [theme=dark] .colab-df-convert {\n",
              "      background-color: #3B4455;\n",
              "      fill: #D2E3FC;\n",
              "    }\n",
              "\n",
              "    [theme=dark] .colab-df-convert:hover {\n",
              "      background-color: #434B5C;\n",
              "      box-shadow: 0px 1px 3px 1px rgba(0, 0, 0, 0.15);\n",
              "      filter: drop-shadow(0px 1px 2px rgba(0, 0, 0, 0.3));\n",
              "      fill: #FFFFFF;\n",
              "    }\n",
              "  </style>\n",
              "\n",
              "      <script>\n",
              "        const buttonEl =\n",
              "          document.querySelector('#df-2a24334d-8605-4992-a05d-5858e0db1e80 button.colab-df-convert');\n",
              "        buttonEl.style.display =\n",
              "          google.colab.kernel.accessAllowed ? 'block' : 'none';\n",
              "\n",
              "        async function convertToInteractive(key) {\n",
              "          const element = document.querySelector('#df-2a24334d-8605-4992-a05d-5858e0db1e80');\n",
              "          const dataTable =\n",
              "            await google.colab.kernel.invokeFunction('convertToInteractive',\n",
              "                                                     [key], {});\n",
              "          if (!dataTable) return;\n",
              "\n",
              "          const docLinkHtml = 'Like what you see? Visit the ' +\n",
              "            '<a target=\"_blank\" href=https://colab.research.google.com/notebooks/data_table.ipynb>data table notebook</a>'\n",
              "            + ' to learn more about interactive tables.';\n",
              "          element.innerHTML = '';\n",
              "          dataTable['output_type'] = 'display_data';\n",
              "          await google.colab.output.renderOutput(dataTable, element);\n",
              "          const docLink = document.createElement('div');\n",
              "          docLink.innerHTML = docLinkHtml;\n",
              "          element.appendChild(docLink);\n",
              "        }\n",
              "      </script>\n",
              "    </div>\n",
              "  </div>\n",
              "  "
            ]
          },
          "metadata": {},
          "execution_count": 18
        }
      ]
    },
    {
      "cell_type": "markdown",
      "source": [
        "# correlation\n",
        "- Positive correlation\n",
        "- Negative correlation\n"
      ],
      "metadata": {
        "id": "Y8aT3x7gXE-h"
      }
    },
    {
      "cell_type": "code",
      "source": [
        "cor = df.corr()"
      ],
      "metadata": {
        "id": "FEPbP2ZSXZK8"
      },
      "execution_count": null,
      "outputs": []
    },
    {
      "cell_type": "code",
      "source": [
        "#Heatmap\n",
        "plt.figure(figsize=(10,10))\n",
        "sns.heatmap(cor,cbar=True,square=True,fmt='.1f',annot=True,annot_kws={'size':8},cmap='Reds')"
      ],
      "metadata": {
        "colab": {
          "base_uri": "https://localhost:8080/",
          "height": 595
        },
        "id": "-dCIydapXxhS",
        "outputId": "72faa29f-4db8-4345-a18b-3a96ae09693a"
      },
      "execution_count": null,
      "outputs": [
        {
          "output_type": "execute_result",
          "data": {
            "text/plain": [
              "<matplotlib.axes._subplots.AxesSubplot at 0x7f9220981d10>"
            ]
          },
          "metadata": {},
          "execution_count": 30
        },
        {
          "output_type": "display_data",
          "data": {
            "text/plain": [
              "<Figure size 720x720 with 2 Axes>"
            ],
            "image/png": "[encoded data removed]"
          },
          "metadata": {}
        }
      ]
    },
    {
      "cell_type": "code",
      "source": [
        "# correlation for GLD\n",
        "print(cor['GLD'])"
      ],
      "metadata": {
        "colab": {
          "base_uri": "https://localhost:8080/"
        },
        "id": "LcIhl1WeY3_a",
        "outputId": "78ec80bf-25d5-4168-a982-1521c1bdcaff"
      },
      "execution_count": null,
      "outputs": [
        {
          "output_type": "stream",
          "name": "stdout",
          "text": [
            "SPX        0.049345\n",
            "GLD        1.000000\n",
            "USO       -0.186360\n",
            "SLV        0.866632\n",
            "EUR/USD   -0.024375\n",
            "Name: GLD, dtype: float64\n"
          ]
        }
      ]
    },
    {
      "cell_type": "code",
      "source": [
        "#the distribution of GLD Price\n",
        "sns.distplot(df['GLD'])"
      ],
      "metadata": {
        "colab": {
          "base_uri": "https://localhost:8080/",
          "height": 358
        },
        "id": "nJ8XA4k-ZV_O",
        "outputId": "2f56664a-31b8-4eb3-d048-08e287e2d16a"
      },
      "execution_count": null,
      "outputs": [
        {
          "output_type": "stream",
          "name": "stderr",
          "text": [
            "/usr/local/lib/python3.7/dist-packages/seaborn/distributions.py:2619: FutureWarning: `distplot` is a deprecated function and will be removed in a future version. Please adapt your code to use either `displot` (a figure-level function with similar flexibility) or `histplot` (an axes-level function for histograms).\n",
            "  warnings.warn(msg, FutureWarning)\n"
          ]
        },
        {
          "output_type": "execute_result",
          "data": {
            "text/plain": [
              "<matplotlib.axes._subplots.AxesSubplot at 0x7f922015de90>"
            ]
          },
          "metadata": {},
          "execution_count": 36
        },
        {
          "output_type": "display_data",
          "data": {
            "text/plain": [
              "<Figure size 432x288 with 1 Axes>"
            ],
            "image/png": "[encoded data removed]"
          },
          "metadata": {}
        }
      ]
    },
    {
      "cell_type": "markdown",
      "source": [
        "Splitting the Features and Target"
      ],
      "metadata": {
        "id": "X9500nUgaRoT"
      }
    },
    {
      "cell_type": "code",
      "source": [
        "df_x = df.drop(['Date','GLD'],axis=1)\n",
        "df_y = df['GLD']\n",
        "print(df_x)"
      ],
      "metadata": {
        "colab": {
          "base_uri": "https://localhost:8080/"
        },
        "id": "btMwi5S0aN_e",
        "outputId": "67f54931-1622-4907-df3e-01c183dfdfc3"
      },
      "execution_count": null,
      "outputs": [
        {
          "output_type": "stream",
          "name": "stdout",
          "text": [
            "              SPX        USO      SLV   EUR/USD\n",
            "0     1447.160034  78.470001  15.1800  1.471692\n",
            "1     1447.160034  78.370003  15.2850  1.474491\n",
            "2     1411.630005  77.309998  15.1670  1.475492\n",
            "3     1416.180054  75.500000  15.0530  1.468299\n",
            "4     1390.189941  76.059998  15.5900  1.557099\n",
            "...           ...        ...      ...       ...\n",
            "2285  2671.919922  14.060000  15.5100  1.186789\n",
            "2286  2697.790039  14.370000  15.5300  1.184722\n",
            "2287  2723.070068  14.410000  15.7400  1.191753\n",
            "2288  2730.129883  14.380000  15.5600  1.193118\n",
            "2289  2725.780029  14.405800  15.4542  1.182033\n",
            "\n",
            "[2290 rows x 4 columns]\n"
          ]
        }
      ]
    },
    {
      "cell_type": "code",
      "source": [
        "print(df_y)"
      ],
      "metadata": {
        "colab": {
          "base_uri": "https://localhost:8080/"
        },
        "id": "EYEal9-sa1Vy",
        "outputId": "aec49e35-9baa-4b39-ce86-919ca2077f0e"
      },
      "execution_count": null,
      "outputs": [
        {
          "output_type": "stream",
          "name": "stdout",
          "text": [
            "0        84.860001\n",
            "1        85.570000\n",
            "2        85.129997\n",
            "3        84.769997\n",
            "4        86.779999\n",
            "           ...    \n",
            "2285    124.589996\n",
            "2286    124.330002\n",
            "2287    125.180000\n",
            "2288    124.489998\n",
            "2289    122.543800\n",
            "Name: GLD, Length: 2290, dtype: float64\n"
          ]
        }
      ]
    },
    {
      "cell_type": "markdown",
      "source": [
        "Split Train & Test"
      ],
      "metadata": {
        "id": "8XI4C4KBa_6F"
      }
    },
    {
      "cell_type": "code",
      "source": [
        "x_train,x_test,y_train,y_test = train_test_split(df_x,df_y,test_size=0.2,random_state=2)"
      ],
      "metadata": {
        "id": "A3R8fIcLa53n"
      },
      "execution_count": null,
      "outputs": []
    },
    {
      "cell_type": "markdown",
      "source": [
        "Model Training: Random Forest Regression"
      ],
      "metadata": {
        "id": "k0kW_rT-gYYB"
      }
    },
    {
      "cell_type": "code",
      "source": [
        "reg = RandomForestRegressor(n_estimators=100)"
      ],
      "metadata": {
        "id": "f8rKsTm5beXP"
      },
      "execution_count": null,
      "outputs": []
    },
    {
      "cell_type": "code",
      "source": [
        "#training the Model\n",
        "reg.fit(x_train,y_train)"
      ],
      "metadata": {
        "colab": {
          "base_uri": "https://localhost:8080/"
        },
        "id": "YhkJvWb5g6FO",
        "outputId": "7e78233e-50e1-41fe-8e05-41967a732d5f"
      },
      "execution_count": null,
      "outputs": [
        {
          "output_type": "execute_result",
          "data": {
            "text/plain": [
              "RandomForestRegressor()"
            ]
          },
          "metadata": {},
          "execution_count": 45
        }
      ]
    },
    {
      "cell_type": "code",
      "source": [
        "#prediction on test data\n",
        "test_data_prediction = reg.predict(x_test)\n"
      ],
      "metadata": {
        "id": "QJl1PZWBhF6F"
      },
      "execution_count": null,
      "outputs": []
    },
    {
      "cell_type": "code",
      "source": [
        "print(test_data_prediction)"
      ],
      "metadata": {
        "colab": {
          "base_uri": "https://localhost:8080/"
        },
        "id": "YMp34F33hSaJ",
        "outputId": "a028bd54-67a3-49f1-cbb2-6a4be855730f"
      },
      "execution_count": null,
      "outputs": [
        {
          "output_type": "stream",
          "name": "stdout",
          "text": [
            "[168.46329913  82.08450004 116.1703002  127.67150062 120.6720017\n",
            " 154.72079771 150.05789822 126.18790039 117.5819989  126.15890012\n",
            " 116.80540085 172.09330094 141.46489769 167.86139784 115.26880014\n",
            " 117.23160071 137.00550339 170.04920094 159.86370308 156.59809929\n",
            " 154.97210016 125.09970011 175.10739922 157.30750399 125.23700045\n",
            "  93.96589954  77.56900004 120.83939996 119.07439924 167.50670001\n",
            "  88.11040065 125.10820032  90.97760031 117.59390058 121.2337992\n",
            " 136.04540133 115.52370134 115.42650018 147.74859986 106.99550089\n",
            " 104.33210247  87.21449786 126.49890032 118.03480001 152.54019928\n",
            " 119.45800036 108.43779977 107.99049815  93.09250066 127.2698973\n",
            "  74.96770032 113.64449942 121.35189998 111.37429881 118.93249898\n",
            " 120.80679913 159.2150999  169.50730074 146.92019649  85.84119836\n",
            "  94.37130046  86.76089819  90.64560019 118.98350083 126.39940074\n",
            " 127.4175002  167.45949954 122.32449942 117.34679916  98.46800041\n",
            " 168.88330232 142.69689839 132.13860277 121.17040223 120.8333993\n",
            " 119.65550054 114.24490166 118.40010047 106.93090084 127.921901\n",
            " 113.94539967 107.44429981 116.58410078 119.77149847  89.22820078\n",
            "  88.27449878 146.51920238 127.26289976 113.54290028 110.6377985\n",
            " 108.225099    77.32769883 170.06310237 114.04639902 121.65959923\n",
            " 127.76320196 154.96689809  91.69549963 137.44200114 158.75210325\n",
            " 125.54110092 125.41520066 130.74500305 114.6409015  119.93630011\n",
            "  92.14189973 110.05229903 165.71169915 156.27679884 114.22359959\n",
            " 106.35120131  79.44089995 113.17280049 125.80260082 107.31579934\n",
            " 119.43350088 156.15710346 160.26859883 120.2760998  133.80150262\n",
            " 101.30319997 117.47179794 119.28080041 113.04990098 102.80779936\n",
            " 160.01209796  99.34060035 147.84079898 125.69140089 170.21439942\n",
            " 125.80439859 127.31019766 127.64930198 113.66169943 113.09020076\n",
            " 123.700499   102.26929909  89.05209953 124.1896997  101.4746995\n",
            " 107.15529897 113.85630038 117.07740068  99.33069978 121.66830064\n",
            " 162.89759893  87.42889858 106.80369983 116.94940095 127.7366013\n",
            " 124.07000099  80.880999   120.38320098 158.90669789  87.77429942\n",
            " 110.31569972 119.05479923 172.29479897 102.95879915 105.71910069\n",
            " 122.34790072 158.91539765  87.28709864  93.09270026 112.68760068\n",
            " 177.02329897 114.43579989 119.34240023  95.17510094 125.64300018\n",
            " 166.36600185 114.75590046 116.61810126  88.28349875 148.92030088\n",
            " 120.4460996   89.64539961 112.36240001 117.25930029 118.84010126\n",
            "  88.16159901  94.50950015 117.03420034 118.46190203 120.41710083\n",
            " 127.00749816 121.77390005 151.30199981 165.40520052 118.53199981\n",
            " 120.47990153 151.62770048 118.4599992  173.44779868 105.21769933\n",
            " 104.86070165 149.17390089 113.72530056 124.80950119 148.23770009\n",
            " 119.49630136 115.30050052 112.69720002 113.58700187 141.48800149\n",
            " 117.87289777 102.95130048 115.93580124 103.37210137  98.92130016\n",
            " 117.43240078  90.5740001   91.47850046 153.50819861 102.70659975\n",
            " 154.77440055 114.44280147 138.32950151  90.00799803 115.57589983\n",
            " 114.68929979 122.92910044 121.72910049 165.34250153  92.85649947\n",
            " 134.73000055 121.31399934 120.71910075 104.68310033 140.98910282\n",
            " 121.55039919 116.62890032 113.32440106 126.97969768 123.01069925\n",
            " 125.84459897 121.22760053  86.89439888 131.91240179 143.99650223\n",
            "  92.7917994  159.03809946 159.30850274 126.46589877 164.98359985\n",
            " 108.77479993 109.85680057 103.67849836  94.30460019 127.83430294\n",
            " 106.95080025 162.31739983 121.71260072 131.92590018 130.83950256\n",
            " 160.63669994  90.14539834 175.35630163 128.05110071 127.12679808\n",
            "  86.5231992  124.5789993  150.41189738  89.75009977 106.82209995\n",
            " 109.0881002   84.20129901 135.81349968 154.8401024  138.72500352\n",
            "  73.54420024 152.67380116 125.96149989 126.6688003  127.56089918\n",
            " 108.60949967 156.05590015 114.54510134 116.92270142 124.75269954\n",
            " 153.96910133 121.3335     156.3415993   92.8751006  125.52570148\n",
            " 125.86020017  87.90390022  92.27599909 126.14219881 128.18380363\n",
            " 113.12599994 117.9191977  120.87630039 126.9675983  120.00720097\n",
            " 136.13610093  93.92989917 119.89190039 113.59340111  94.36579934\n",
            " 108.96229979  87.2776989  108.98159949  89.66859982  92.44390024\n",
            " 131.82830322 162.33130064  89.09140047 119.69810069 133.44940187\n",
            " 123.87760017 128.50280196 101.96729855  88.99049876 131.73630116\n",
            " 119.89880031 108.89139994 168.07210132 115.20270047  86.5740987\n",
            " 118.82550038  91.01109959 161.59580026 116.44360041 121.55830019\n",
            " 160.22499837 120.33629954 112.82429927 108.45089871 126.92710027\n",
            "  75.92390049 103.01899988 127.67700286 121.80389906  92.55250011\n",
            " 132.56820066 118.03720163 116.02919998 154.46990276 159.3983005\n",
            " 110.07349972 153.24119773 119.31760086 160.76390106 118.54930056\n",
            " 157.57999889 115.13829941 116.50550022 148.8576996  114.83670055\n",
            " 125.45899878 165.8851996  117.81890012 124.96689928 153.39340324\n",
            " 153.487102   132.03750013 114.83600019 121.15150188 124.95800049\n",
            "  89.74870058 123.19579977 154.84550256 111.82880041 106.78739995\n",
            " 161.79930195 118.56969981 165.75300028 134.12100102 114.96729989\n",
            " 152.97539914 168.49629991 114.77700052 114.09000125 157.88389972\n",
            "  85.38289874 127.09170065 127.71760087 129.03220026 124.38880062\n",
            " 123.93040061  90.67400031 153.19720046  96.98149961 137.94629992\n",
            "  89.14149916 107.33739979 114.99750044 112.82340084 124.24739911\n",
            "  91.35919864 125.48590133 162.32779921 119.84989894 165.06160126\n",
            " 127.05229811 112.30350029 127.67239915  94.64859874  90.84640001\n",
            " 102.88289896 120.94499999  83.05079953 126.2251     160.80770399\n",
            " 117.27350098 118.35999998 119.99319999 122.74059992 120.14040124\n",
            " 121.31070012 118.01110045 107.11279994 148.48160012 126.28989853\n",
            " 115.73530115  73.63619997 127.86880112 154.41550104 122.22610024\n",
            " 125.57930041  88.87230001 103.33619843 124.5216006  120.36560034\n",
            "  73.30920072 151.60880024 121.22430011 104.59480032  86.40929776\n",
            " 115.26349925 172.16409803 119.73380057 159.43159779 113.23759961\n",
            " 120.94040031 118.69660146  96.02029987 118.99090005 125.78100063\n",
            " 118.53009965  95.55270041 153.65080206 121.85560014 147.41320091\n",
            " 158.98870217 113.92080012 122.45909957 149.35779792 126.97690042\n",
            " 165.81040074 135.64680025 120.08149944 167.16509819 108.51879896\n",
            " 121.8883985  138.72400042 107.3066992 ]\n"
          ]
        }
      ]
    },
    {
      "cell_type": "code",
      "source": [
        "# R squared error\n",
        "es = metrics.r2_score(y_test  , test_data_prediction) \n",
        "print(\"R squared = \",es)"
      ],
      "metadata": {
        "colab": {
          "base_uri": "https://localhost:8080/"
        },
        "id": "DhUG5XmYhWZD",
        "outputId": "4a49f822-b334-4229-a477-9030fe5350e2"
      },
      "execution_count": null,
      "outputs": [
        {
          "output_type": "stream",
          "name": "stdout",
          "text": [
            "R squared =  0.9887779480634545\n"
          ]
        }
      ]
    },
    {
      "cell_type": "markdown",
      "source": [
        "Compare the y_test and the y_pred"
      ],
      "metadata": {
        "id": "nEIss3S_iJbM"
      }
    },
    {
      "cell_type": "code",
      "source": [
        "y_test = list(y_test)"
      ],
      "metadata": {
        "id": "5OURY-_DiH_c"
      },
      "execution_count": null,
      "outputs": []
    },
    {
      "cell_type": "code",
      "source": [
        "plt.plot(y_test,color='blue',label='y_test')\n",
        "plt.plot(test_data_prediction,color='red',label='y_pred')\n",
        "plt.title ('y pred vs y test')\n",
        "plt.xlabel('numbre of values')\n",
        "plt.ylabel('GLD')\n",
        "plt.legend()\n",
        "plt.show()\n"
      ],
      "metadata": {
        "colab": {
          "base_uri": "https://localhost:8080/",
          "height": 299
        },
        "id": "iwdqD97FiWCE",
        "outputId": "82d744ca-e699-4e78-cd6a-d53f51e20ad3"
      },
      "execution_count": null,
      "outputs": [
        {
          "output_type": "display_data",
          "data": {
            "text/plain": [
              "<Figure size 432x288 with 1 Axes>"
            ],
            "image/png": "[encoded data removed]"
          },
          "metadata": {}
        }
      ]
    }
  ]
}